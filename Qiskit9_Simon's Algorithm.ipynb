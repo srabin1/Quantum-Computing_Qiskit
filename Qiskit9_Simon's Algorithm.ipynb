{
 "cells": [
  {
   "cell_type": "markdown",
   "id": "c95ab541",
   "metadata": {},
   "source": [
    "# Simon's Algorithm"
   ]
  },
  {
   "cell_type": "code",
   "execution_count": 1,
   "id": "88ef57c1",
   "metadata": {},
   "outputs": [],
   "source": [
    "import qiskit\n",
    "import numpy as np # define random numbers\n",
    "from qiskit import QuantumCircuit, QuantumRegister, ClassicalRegister\n",
    "from qiskit_aer import Aer\n",
    "from qiskit import transpile\n",
    "from qiskit.visualization import circuit_drawer, plot_bloch_multivector, plot_histogram\n",
    "from qiskit.visualization import array_to_latex\n",
    "from qiskit.quantum_info import random_statevector\n",
    "#from qiskit.extensions import initialize\n",
    "from math import pi, sqrt\n",
    "import pylatexenc\n",
    "from pylatexenc.latex2text import LatexNodes2Text"
   ]
  },
  {
   "cell_type": "code",
   "execution_count": 12,
   "id": "4c785b9e",
   "metadata": {},
   "outputs": [],
   "source": [
    "s = '10' # secret string\n",
    "\n",
    "input_qubits = len(str(s))\n",
    "\n",
    "total_qubits = 2*input_qubits\n",
    "\n",
    "qc= QuantumCircuit(total_qubits, input_qubits) # we only measure the first register"
   ]
  },
  {
   "cell_type": "code",
   "execution_count": 13,
   "id": "4880ac8b",
   "metadata": {},
   "outputs": [
    {
     "data": {
      "image/png": "[encoded data removed]",
      "text/plain": [
       "<Figure size 568.197x325.08 with 1 Axes>"
      ]
     },
     "execution_count": 13,
     "metadata": {},
     "output_type": "execute_result"
    }
   ],
   "source": [
    "#apply hadamard to the first register\n",
    "qc.h(range(input_qubits))\n",
    "qc.barrier()\n",
    "\n",
    "#define the oracle\n",
    "for idx in range(input_qubits):\n",
    "    if (s[idx] == '1'):\n",
    "        for count in range(input_qubits):\n",
    "            qc.cx(idx, input_qubits + count)\n",
    "            \n",
    "qc.barrier()\n",
    "# apply hadamard again\n",
    "qc.h(range(len(str(s))))\n",
    "\n",
    "#only measure the first qubit\n",
    "qc.measure([0,1], [0,1])\n",
    "\n",
    "qc.draw('mpl')"
   ]
  },
  {
   "cell_type": "markdown",
   "id": "22f5a4fb",
   "metadata": {},
   "source": [
    "# QASM Simulator"
   ]
  },
  {
   "cell_type": "code",
   "execution_count": 14,
   "id": "d6d20d97",
   "metadata": {},
   "outputs": [
    {
     "name": "stdout",
     "output_type": "stream",
     "text": [
      "\n",
      " Total counts are: {'01': 512, '00': 488}\n"
     ]
    },
    {
     "data": {
      "image/png": "[encoded data removed]",
      "text/plain": [
       "<Figure size 432x288 with 1 Axes>"
      ]
     },
     "execution_count": 14,
     "metadata": {},
     "output_type": "execute_result"
    }
   ],
   "source": [
    "backend = Aer.get_backend('qasm_simulator')\n",
    "\n",
    "simon_algo = transpile (qc, backend)\n",
    "\n",
    "job = backend.run(simon_algo, shots = 1000)\n",
    "\n",
    "result = job.result()\n",
    "\n",
    "counts = result.get_counts(qc)\n",
    "\n",
    "print(\"\\n Total counts are:\", counts)\n",
    "\n",
    "plot_histogram(counts)"
   ]
  },
  {
   "cell_type": "code",
   "execution_count": 15,
   "id": "204b3feb",
   "metadata": {},
   "outputs": [],
   "source": [
    "# this is a 2-2 function and 01 is the little endian order which is 10\n",
    "# change secret string s like 00, 01, ... to see their differences"
   ]
  },
  {
   "cell_type": "code",
   "execution_count": null,
   "id": "7ce71726",
   "metadata": {},
   "outputs": [],
   "source": []
  }
 ],
 "metadata": {
  "kernelspec": {
   "display_name": "Python 3 (ipykernel)",
   "language": "python",
   "name": "python3"
  },
  "language_info": {
   "codemirror_mode": {
    "name": "ipython",
    "version": 3
   },
   "file_extension": ".py",
   "mimetype": "text/x-python",
   "name": "python",
   "nbconvert_exporter": "python",
   "pygments_lexer": "ipython3",
   "version": "3.9.12"
  }
 },
 "nbformat": 4,
 "nbformat_minor": 5
}
